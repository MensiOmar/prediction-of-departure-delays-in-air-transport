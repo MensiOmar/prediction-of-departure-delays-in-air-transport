{
 "cells": [
  {
   "cell_type": "code",
   "execution_count": 2,
   "metadata": {},
   "outputs": [],
   "source": [
    "import os\n",
    "import pandas as pd\n",
    "import numpy as np\n",
    "import matplotlib.pyplot as plt"
   ]
  },
  {
   "cell_type": "code",
   "execution_count": 7,
   "metadata": {},
   "outputs": [],
   "source": [
    "avg_delay_df = pd.read_csv('C:/Users/MSI/avg_delay.csv')\n"
   ]
  },
  {
   "cell_type": "code",
   "execution_count": 8,
   "metadata": {},
   "outputs": [],
   "source": [
    "avg_delay_df.index = pd.to_datetime(avg_delay_df['time'], format='%Y-%m-%d %H:%M:%S%z')\n"
   ]
  },
  {
   "cell_type": "code",
   "execution_count": 9,
   "metadata": {},
   "outputs": [
    {
     "data": {
      "text/plain": [
       "<Axes: xlabel='time'>"
      ]
     },
     "execution_count": 9,
     "metadata": {},
     "output_type": "execute_result"
    },
    {
     "data": {
      "image/png": "[encoded data removed]",
      "text/plain": [
       "<Figure size 640x480 with 1 Axes>"
      ]
     },
     "metadata": {},
     "output_type": "display_data"
    }
   ],
   "source": [
    "airport_name = \"ACY\"\n",
    "used_df = avg_delay_df[airport_name]\n",
    "used_df.plot()"
   ]
  },
  {
   "cell_type": "code",
   "execution_count": 10,
   "metadata": {},
   "outputs": [],
   "source": [
    "def df_to_X_y(df, window_size=7):\n",
    "  df_as_np = df.to_numpy()\n",
    "  X = []\n",
    "  y = []\n",
    "  for i in range(len(df_as_np)-window_size):\n",
    "    row = [[a] for a in df_as_np[i:i+window_size]]\n",
    "    X.append(row)\n",
    "    label = df_as_np[i+window_size]\n",
    "    y.append(label)\n",
    "  return np.array(X), np.array(y)"
   ]
  },
  {
   "cell_type": "code",
   "execution_count": 11,
   "metadata": {},
   "outputs": [
    {
     "data": {
      "text/plain": [
       "((8031, 7, 1), (8031,))"
      ]
     },
     "execution_count": 11,
     "metadata": {},
     "output_type": "execute_result"
    }
   ],
   "source": [
    "X1, y1 = df_to_X_y(used_df)\n",
    "X1.shape, y1.shape"
   ]
  },
  {
   "cell_type": "code",
   "execution_count": 12,
   "metadata": {},
   "outputs": [
    {
     "data": {
      "text/plain": [
       "((5626, 7, 1), (5626,), (1607, 7, 1), (1607,), (798, 7, 1), (798,))"
      ]
     },
     "execution_count": 12,
     "metadata": {},
     "output_type": "execute_result"
    }
   ],
   "source": [
    "train_size = int(0.7 * len(used_df))  # 60% for training 4822\n",
    "val_size = int(0.2 * len(used_df))    # 20% for validation 1607\n",
    "test_size = len(used_df) - train_size - val_size\n",
    "X_train1, y_train1 = X1[:train_size], y1[:train_size]\n",
    "X_val1, y_val1 = X1[train_size:train_size+val_size], y1[train_size:train_size+val_size]\n",
    "X_test1, y_test1 = X1[train_size+val_size:], y1[train_size+val_size:]\n",
    "X_train1.shape, y_train1.shape, X_val1.shape, y_val1.shape, X_test1.shape, y_test1.shape"
   ]
  },
  {
   "cell_type": "code",
   "execution_count": 13,
   "metadata": {},
   "outputs": [],
   "source": [
    "from tensorflow.keras.models import Sequential\n",
    "from tensorflow.keras.layers import *\n",
    "from tensorflow.keras.callbacks import ModelCheckpoint\n",
    "from tensorflow.keras.losses import MeanSquaredError\n",
    "from tensorflow.keras.metrics import RootMeanSquaredError\n",
    "from tensorflow.keras.optimizers import Adam\n",
    "import tensorflow as tf"
   ]
  },
  {
   "cell_type": "code",
   "execution_count": 44,
   "metadata": {},
   "outputs": [],
   "source": [
    "from sklearn.metrics import mean_squared_error as mse\n",
    "\n",
    "def plot_predictions1(model, X, y, start=0, end=100 , title='model2'):\n",
    "  predictions = model.predict(X).flatten()\n",
    "  df = pd.DataFrame(data={'Predictions':predictions, 'Actuals':y})\n",
    "\n",
    "  plt.figure(figsize=(6, 4))\n",
    "  plt.plot(df['Predictions'][start:end], color='red', label='Predictions')\n",
    "  plt.plot(df['Actuals'][start:end], color='grey', label='Actuals')\n",
    "  \n",
    "  plt.title(title)\n",
    "  plt.xlabel('Time')\n",
    "  plt.ylabel('Value')\n",
    "  plt.legend()\n",
    "  plt.show()\n",
    "  \n",
    "  mse_value = mse(y, predictions)\n",
    "  \n",
    "  return df, mse_value"
   ]
  },
  {
   "cell_type": "code",
   "execution_count": 21,
   "metadata": {},
   "outputs": [
    {
     "name": "stdout",
     "output_type": "stream",
     "text": [
      "Model: \"sequential\"\n",
      "_________________________________________________________________\n",
      " Layer (type)                Output Shape              Param #   \n",
      "=================================================================\n",
      " conv1d (Conv1D)             (None, 6, 512)            1536      \n",
      "                                                                 \n",
      " flatten (Flatten)           (None, 3072)              0         \n",
      "                                                                 \n",
      " dense (Dense)               (None, 128)               393344    \n",
      "                                                                 \n",
      " dense_1 (Dense)             (None, 128)               16512     \n",
      "                                                                 \n",
      " dense_2 (Dense)             (None, 1)                 129       \n",
      "                                                                 \n",
      "=================================================================\n",
      "Total params: 411521 (1.57 MB)\n",
      "Trainable params: 411521 (1.57 MB)\n",
      "Non-trainable params: 0 (0.00 Byte)\n",
      "_________________________________________________________________\n"
     ]
    }
   ],
   "source": [
    "model1_Conv1D = Sequential()\n",
    "model1_Conv1D.add(InputLayer((7, 1)))\n",
    "model1_Conv1D.add(Conv1D(512,kernel_size=2))\n",
    "model1_Conv1D.add(Flatten())\n",
    "model1_Conv1D.add(Dense(128, 'relu'))\n",
    "model1_Conv1D.add(Dense(128, 'relu'))\n",
    "model1_Conv1D.add(Dense(1, 'linear'))\n",
    "\n",
    "model1.summary()"
   ]
  },
  {
   "cell_type": "code",
   "execution_count": 22,
   "metadata": {},
   "outputs": [],
   "source": [
    "cp1_conv= ModelCheckpoint('model/', save_best_only=True)\n",
    "model1_Conv1D.compile(loss=MeanSquaredError(), optimizer=Adam(learning_rate=0.0001), metrics=[RootMeanSquaredError()])\n"
   ]
  },
  {
   "cell_type": "code",
   "execution_count": 24,
   "metadata": {},
   "outputs": [
    {
     "name": "stdout",
     "output_type": "stream",
     "text": [
      "Epoch 1/10\n",
      "173/176 [============================>.] - ETA: 0s - loss: 0.0022 - root_mean_squared_error: 0.0473INFO:tensorflow:Assets written to: model\\assets\n"
     ]
    },
    {
     "name": "stderr",
     "output_type": "stream",
     "text": [
      "INFO:tensorflow:Assets written to: model\\assets\n"
     ]
    },
    {
     "name": "stdout",
     "output_type": "stream",
     "text": [
      "176/176 [==============================] - 2s 9ms/step - loss: 0.0022 - root_mean_squared_error: 0.0470 - val_loss: 0.0013 - val_root_mean_squared_error: 0.0355\n",
      "Epoch 2/10\n",
      "167/176 [===========================>..] - ETA: 0s - loss: 0.0023 - root_mean_squared_error: 0.0476INFO:tensorflow:Assets written to: model\\assets\n"
     ]
    },
    {
     "name": "stderr",
     "output_type": "stream",
     "text": [
      "INFO:tensorflow:Assets written to: model\\assets\n"
     ]
    },
    {
     "name": "stdout",
     "output_type": "stream",
     "text": [
      "176/176 [==============================] - 1s 8ms/step - loss: 0.0022 - root_mean_squared_error: 0.0468 - val_loss: 0.0012 - val_root_mean_squared_error: 0.0347\n",
      "Epoch 3/10\n",
      "176/176 [==============================] - 1s 6ms/step - loss: 0.0022 - root_mean_squared_error: 0.0467 - val_loss: 0.0013 - val_root_mean_squared_error: 0.0355\n",
      "Epoch 4/10\n",
      "176/176 [==============================] - 1s 6ms/step - loss: 0.0022 - root_mean_squared_error: 0.0465 - val_loss: 0.0013 - val_root_mean_squared_error: 0.0354\n",
      "Epoch 5/10\n",
      "176/176 [==============================] - 1s 6ms/step - loss: 0.0022 - root_mean_squared_error: 0.0465 - val_loss: 0.0012 - val_root_mean_squared_error: 0.0350\n",
      "Epoch 6/10\n",
      "176/176 [==============================] - 1s 5ms/step - loss: 0.0022 - root_mean_squared_error: 0.0464 - val_loss: 0.0012 - val_root_mean_squared_error: 0.0349\n",
      "Epoch 7/10\n",
      "176/176 [==============================] - 1s 5ms/step - loss: 0.0021 - root_mean_squared_error: 0.0463 - val_loss: 0.0013 - val_root_mean_squared_error: 0.0356\n",
      "Epoch 8/10\n",
      "176/176 [==============================] - 1s 5ms/step - loss: 0.0022 - root_mean_squared_error: 0.0464 - val_loss: 0.0012 - val_root_mean_squared_error: 0.0349\n",
      "Epoch 9/10\n",
      "176/176 [==============================] - 1s 5ms/step - loss: 0.0022 - root_mean_squared_error: 0.0464 - val_loss: 0.0012 - val_root_mean_squared_error: 0.0350\n",
      "Epoch 10/10\n",
      "176/176 [==============================] - 1s 5ms/step - loss: 0.0021 - root_mean_squared_error: 0.0463 - val_loss: 0.0012 - val_root_mean_squared_error: 0.0349\n"
     ]
    },
    {
     "data": {
      "text/plain": [
       "<keras.src.callbacks.History at 0x21527cd06a0>"
      ]
     },
     "execution_count": 24,
     "metadata": {},
     "output_type": "execute_result"
    }
   ],
   "source": [
    "model1_Conv1D.fit(X_train1, y_train1, validation_data=(X_val1, y_val1), epochs=10, callbacks=[cp1_conv])"
   ]
  },
  {
   "cell_type": "code",
   "execution_count": 51,
   "metadata": {},
   "outputs": [
    {
     "name": "stdout",
     "output_type": "stream",
     "text": [
      "51/51 [==============================] - 0s 2ms/step\n"
     ]
    },
    {
     "data": {
      "image/png": "[encoded data removed]",
      "text/plain": [
       "<Figure size 600x400 with 1 Axes>"
      ]
     },
     "metadata": {},
     "output_type": "display_data"
    },
    {
     "data": {
      "text/plain": [
       "(      Predictions   Actuals\n",
       " 0        0.052332  0.000000\n",
       " 1       -0.002773  0.000000\n",
       " 2        0.002275  0.000000\n",
       " 3        0.003163  0.000000\n",
       " 4        0.035228  0.035185\n",
       " ...           ...       ...\n",
       " 1602     0.002450  0.000000\n",
       " 1603     0.002450  0.000000\n",
       " 1604     0.002450  0.000000\n",
       " 1605     0.002450  0.000000\n",
       " 1606     0.002450  0.000000\n",
       " \n",
       " [1607 rows x 2 columns],\n",
       " 0.0012211955765062533)"
      ]
     },
     "execution_count": 51,
     "metadata": {},
     "output_type": "execute_result"
    }
   ],
   "source": [
    "\n",
    "#plt.plot(train_results['Train Predictions'][:500])\n",
    "#plt.plot(train_results['Actuals'][:500])\n",
    "plot_predictions1(model1_Conv1D, X_val1, y_val1,200,400,title=\"Conv1D model1\")\n"
   ]
  },
  {
   "cell_type": "code",
   "execution_count": 28,
   "metadata": {},
   "outputs": [
    {
     "name": "stdout",
     "output_type": "stream",
     "text": [
      "Model: \"sequential_3\"\n",
      "_________________________________________________________________\n",
      " Layer (type)                Output Shape              Param #   \n",
      "=================================================================\n",
      " gru (GRU)                   (None, 512)               791040    \n",
      "                                                                 \n",
      " dense_9 (Dense)             (None, 128)               65664     \n",
      "                                                                 \n",
      " dense_10 (Dense)            (None, 128)               16512     \n",
      "                                                                 \n",
      " dense_11 (Dense)            (None, 1)                 129       \n",
      "                                                                 \n",
      "=================================================================\n",
      "Total params: 873345 (3.33 MB)\n",
      "Trainable params: 873345 (3.33 MB)\n",
      "Non-trainable params: 0 (0.00 Byte)\n",
      "_________________________________________________________________\n"
     ]
    }
   ],
   "source": [
    "model1_GRU = Sequential()\n",
    "model1_GRU.add(InputLayer((7, 1)))\n",
    "model1_GRU.add(GRU(512))\n",
    "\n",
    "model1_GRU.add(Dense(128, 'relu'))\n",
    "model1_GRU.add(Dense(128, 'relu'))\n",
    "model1_GRU.add(Dense(1, 'linear'))\n",
    "\n",
    "model1_GRU.summary()"
   ]
  },
  {
   "cell_type": "code",
   "execution_count": 29,
   "metadata": {},
   "outputs": [],
   "source": [
    "cp1_gru= ModelCheckpoint('model/', save_best_only=True)\n",
    "model1_GRU.compile(loss=MeanSquaredError(), optimizer=Adam(learning_rate=0.0001), metrics=[RootMeanSquaredError()])"
   ]
  },
  {
   "cell_type": "code",
   "execution_count": 30,
   "metadata": {},
   "outputs": [
    {
     "name": "stdout",
     "output_type": "stream",
     "text": [
      "Epoch 1/10\n",
      "175/176 [============================>.] - ETA: 0s - loss: 0.0023 - root_mean_squared_error: 0.0476INFO:tensorflow:Assets written to: model\\assets\n"
     ]
    },
    {
     "name": "stderr",
     "output_type": "stream",
     "text": [
      "INFO:tensorflow:Assets written to: model\\assets\n"
     ]
    },
    {
     "name": "stdout",
     "output_type": "stream",
     "text": [
      "176/176 [==============================] - 9s 44ms/step - loss: 0.0023 - root_mean_squared_error: 0.0476 - val_loss: 0.0012 - val_root_mean_squared_error: 0.0351\n",
      "Epoch 2/10\n",
      "175/176 [============================>.] - ETA: 0s - loss: 0.0022 - root_mean_squared_error: 0.0474INFO:tensorflow:Assets written to: model\\assets\n"
     ]
    },
    {
     "name": "stderr",
     "output_type": "stream",
     "text": [
      "INFO:tensorflow:Assets written to: model\\assets\n"
     ]
    },
    {
     "name": "stdout",
     "output_type": "stream",
     "text": [
      "176/176 [==============================] - 8s 44ms/step - loss: 0.0023 - root_mean_squared_error: 0.0475 - val_loss: 0.0012 - val_root_mean_squared_error: 0.0347\n",
      "Epoch 3/10\n",
      "176/176 [==============================] - 6s 32ms/step - loss: 0.0022 - root_mean_squared_error: 0.0474 - val_loss: 0.0012 - val_root_mean_squared_error: 0.0349\n",
      "Epoch 4/10\n",
      "176/176 [==============================] - 5s 31ms/step - loss: 0.0022 - root_mean_squared_error: 0.0474 - val_loss: 0.0012 - val_root_mean_squared_error: 0.0352\n",
      "Epoch 5/10\n",
      "175/176 [============================>.] - ETA: 0s - loss: 0.0023 - root_mean_squared_error: 0.0475INFO:tensorflow:Assets written to: model\\assets\n"
     ]
    },
    {
     "name": "stderr",
     "output_type": "stream",
     "text": [
      "INFO:tensorflow:Assets written to: model\\assets\n"
     ]
    },
    {
     "name": "stdout",
     "output_type": "stream",
     "text": [
      "176/176 [==============================] - 7s 40ms/step - loss: 0.0023 - root_mean_squared_error: 0.0474 - val_loss: 0.0012 - val_root_mean_squared_error: 0.0346\n",
      "Epoch 6/10\n",
      "176/176 [==============================] - 5s 30ms/step - loss: 0.0022 - root_mean_squared_error: 0.0474 - val_loss: 0.0012 - val_root_mean_squared_error: 0.0352\n",
      "Epoch 7/10\n",
      "176/176 [==============================] - 5s 31ms/step - loss: 0.0022 - root_mean_squared_error: 0.0474 - val_loss: 0.0012 - val_root_mean_squared_error: 0.0346\n",
      "Epoch 8/10\n",
      "176/176 [==============================] - 5s 31ms/step - loss: 0.0022 - root_mean_squared_error: 0.0473 - val_loss: 0.0012 - val_root_mean_squared_error: 0.0349\n",
      "Epoch 9/10\n",
      "176/176 [==============================] - 6s 31ms/step - loss: 0.0022 - root_mean_squared_error: 0.0474 - val_loss: 0.0012 - val_root_mean_squared_error: 0.0347\n",
      "Epoch 10/10\n",
      "176/176 [==============================] - 6s 32ms/step - loss: 0.0022 - root_mean_squared_error: 0.0473 - val_loss: 0.0012 - val_root_mean_squared_error: 0.0353\n"
     ]
    },
    {
     "data": {
      "text/plain": [
       "<keras.src.callbacks.History at 0x2152b2060b0>"
      ]
     },
     "execution_count": 30,
     "metadata": {},
     "output_type": "execute_result"
    }
   ],
   "source": [
    "model1_GRU.fit(X_train1, y_train1, validation_data=(X_val1, y_val1), epochs=10, callbacks=[cp1_gru])"
   ]
  },
  {
   "cell_type": "code",
   "execution_count": 49,
   "metadata": {},
   "outputs": [
    {
     "name": "stdout",
     "output_type": "stream",
     "text": [
      "51/51 [==============================] - 1s 11ms/step\n"
     ]
    },
    {
     "data": {
      "image/png": "[encoded data removed]",
      "text/plain": [
       "<Figure size 600x400 with 1 Axes>"
      ]
     },
     "metadata": {},
     "output_type": "display_data"
    },
    {
     "data": {
      "text/plain": [
       "(      Predictions   Actuals\n",
       " 0        0.020318  0.000000\n",
       " 1        0.019385  0.000000\n",
       " 2        0.017452  0.000000\n",
       " 3        0.016041  0.000000\n",
       " 4        0.014760  0.035185\n",
       " ...           ...       ...\n",
       " 1602     0.009763  0.000000\n",
       " 1603     0.009763  0.000000\n",
       " 1604     0.009763  0.000000\n",
       " 1605     0.009763  0.000000\n",
       " 1606     0.009763  0.000000\n",
       " \n",
       " [1607 rows x 2 columns],\n",
       " 0.0012454196487443163)"
      ]
     },
     "execution_count": 49,
     "metadata": {},
     "output_type": "execute_result"
    }
   ],
   "source": [
    "plot_predictions1(model1_GRU, X_val1, y_val1,200,400,title=\"GRU model1\")"
   ]
  },
  {
   "cell_type": "code",
   "execution_count": 38,
   "metadata": {},
   "outputs": [
    {
     "name": "stdout",
     "output_type": "stream",
     "text": [
      "Model: \"sequential_6\"\n",
      "_________________________________________________________________\n",
      " Layer (type)                Output Shape              Param #   \n",
      "=================================================================\n",
      " lstm_2 (LSTM)               (None, 128)               66560     \n",
      "                                                                 \n",
      " dense_18 (Dense)            (None, 128)               16512     \n",
      "                                                                 \n",
      " dense_19 (Dense)            (None, 1)                 129       \n",
      "                                                                 \n",
      "=================================================================\n",
      "Total params: 83201 (325.00 KB)\n",
      "Trainable params: 83201 (325.00 KB)\n",
      "Non-trainable params: 0 (0.00 Byte)\n",
      "_________________________________________________________________\n"
     ]
    }
   ],
   "source": [
    "model1_LSTM = Sequential()\n",
    "model1_LSTM.add(InputLayer((7, 1)))\n",
    "model1_LSTM.add(LSTM(128))\n",
    "model1_LSTM.add(Dense(128, 'relu'))\n",
    "model1_LSTM.add(Dense(128, 'relu'))\n",
    "model1_LSTM.add(Dense(1, 'linear'))\n",
    "\n",
    "model1_LSTM.summary()"
   ]
  },
  {
   "cell_type": "code",
   "execution_count": 39,
   "metadata": {},
   "outputs": [],
   "source": [
    "cp1_LSTM= ModelCheckpoint('model/', save_best_only=True)\n",
    "model1_LSTM.compile(loss=MeanSquaredError(), optimizer=Adam(learning_rate=0.0001), metrics=[RootMeanSquaredError()])"
   ]
  },
  {
   "cell_type": "code",
   "execution_count": 40,
   "metadata": {},
   "outputs": [
    {
     "name": "stdout",
     "output_type": "stream",
     "text": [
      "Epoch 1/10\n",
      "169/176 [===========================>..] - ETA: 0s - loss: 0.0023 - root_mean_squared_error: 0.0476INFO:tensorflow:Assets written to: model\\assets\n"
     ]
    },
    {
     "name": "stderr",
     "output_type": "stream",
     "text": [
      "INFO:tensorflow:Assets written to: model\\assets\n"
     ]
    },
    {
     "name": "stdout",
     "output_type": "stream",
     "text": [
      "176/176 [==============================] - 5s 19ms/step - loss: 0.0023 - root_mean_squared_error: 0.0474 - val_loss: 0.0012 - val_root_mean_squared_error: 0.0346\n",
      "Epoch 2/10\n",
      "176/176 [==============================] - 1s 6ms/step - loss: 0.0022 - root_mean_squared_error: 0.0474 - val_loss: 0.0012 - val_root_mean_squared_error: 0.0353\n",
      "Epoch 3/10\n",
      "176/176 [==============================] - 1s 8ms/step - loss: 0.0022 - root_mean_squared_error: 0.0474 - val_loss: 0.0012 - val_root_mean_squared_error: 0.0346\n",
      "Epoch 4/10\n",
      "171/176 [============================>.] - ETA: 0s - loss: 0.0022 - root_mean_squared_error: 0.0472INFO:tensorflow:Assets written to: model\\assets\n"
     ]
    },
    {
     "name": "stderr",
     "output_type": "stream",
     "text": [
      "INFO:tensorflow:Assets written to: model\\assets\n"
     ]
    },
    {
     "name": "stdout",
     "output_type": "stream",
     "text": [
      "176/176 [==============================] - 3s 18ms/step - loss: 0.0022 - root_mean_squared_error: 0.0474 - val_loss: 0.0012 - val_root_mean_squared_error: 0.0345\n",
      "Epoch 5/10\n",
      "176/176 [==============================] - 1s 7ms/step - loss: 0.0022 - root_mean_squared_error: 0.0474 - val_loss: 0.0012 - val_root_mean_squared_error: 0.0348\n",
      "Epoch 6/10\n",
      "176/176 [==============================] - 1s 7ms/step - loss: 0.0022 - root_mean_squared_error: 0.0473 - val_loss: 0.0012 - val_root_mean_squared_error: 0.0346\n",
      "Epoch 7/10\n",
      "176/176 [==============================] - 1s 7ms/step - loss: 0.0022 - root_mean_squared_error: 0.0474 - val_loss: 0.0013 - val_root_mean_squared_error: 0.0355\n",
      "Epoch 8/10\n",
      "176/176 [==============================] - 1s 7ms/step - loss: 0.0022 - root_mean_squared_error: 0.0473 - val_loss: 0.0012 - val_root_mean_squared_error: 0.0346\n",
      "Epoch 9/10\n",
      "176/176 [==============================] - 1s 7ms/step - loss: 0.0022 - root_mean_squared_error: 0.0473 - val_loss: 0.0012 - val_root_mean_squared_error: 0.0346\n",
      "Epoch 10/10\n",
      "169/176 [===========================>..] - ETA: 0s - loss: 0.0023 - root_mean_squared_error: 0.0476INFO:tensorflow:Assets written to: model\\assets\n"
     ]
    },
    {
     "name": "stderr",
     "output_type": "stream",
     "text": [
      "INFO:tensorflow:Assets written to: model\\assets\n"
     ]
    },
    {
     "name": "stdout",
     "output_type": "stream",
     "text": [
      "176/176 [==============================] - 3s 18ms/step - loss: 0.0022 - root_mean_squared_error: 0.0473 - val_loss: 0.0012 - val_root_mean_squared_error: 0.0345\n"
     ]
    },
    {
     "data": {
      "text/plain": [
       "<keras.src.callbacks.History at 0x2152b2d88e0>"
      ]
     },
     "execution_count": 40,
     "metadata": {},
     "output_type": "execute_result"
    }
   ],
   "source": [
    "model1_LSTM.fit(X_train1, y_train1, validation_data=(X_val1, y_val1), epochs=10, callbacks=[cp1_LSTM])"
   ]
  },
  {
   "cell_type": "code",
   "execution_count": 48,
   "metadata": {},
   "outputs": [
    {
     "name": "stdout",
     "output_type": "stream",
     "text": [
      "51/51 [==============================] - 1s 10ms/step\n"
     ]
    },
    {
     "data": {
      "image/png": "[encoded data removed]",
      "text/plain": [
       "<Figure size 600x400 with 1 Axes>"
      ]
     },
     "metadata": {},
     "output_type": "display_data"
    },
    {
     "data": {
      "text/plain": [
       "(      Predictions   Actuals\n",
       " 0        0.020318  0.000000\n",
       " 1        0.019385  0.000000\n",
       " 2        0.017452  0.000000\n",
       " 3        0.016041  0.000000\n",
       " 4        0.014760  0.035185\n",
       " ...           ...       ...\n",
       " 1602     0.009763  0.000000\n",
       " 1603     0.009763  0.000000\n",
       " 1604     0.009763  0.000000\n",
       " 1605     0.009763  0.000000\n",
       " 1606     0.009763  0.000000\n",
       " \n",
       " [1607 rows x 2 columns],\n",
       " 0.0012454196487443163)"
      ]
     },
     "execution_count": 48,
     "metadata": {},
     "output_type": "execute_result"
    }
   ],
   "source": [
    "plot_predictions1(model1_GRU, X_val1, y_val1,200,400,title=\"LSTM model1\")\n"
   ]
  }
 ],
 "metadata": {
  "kernelspec": {
   "display_name": "Python 3",
   "language": "python",
   "name": "python3"
  },
  "language_info": {
   "codemirror_mode": {
    "name": "ipython",
    "version": 3
   },
   "file_extension": ".py",
   "mimetype": "text/x-python",
   "name": "python",
   "nbconvert_exporter": "python",
   "pygments_lexer": "ipython3",
   "version": "3.10.9"
  },
  "orig_nbformat": 4
 },
 "nbformat": 4,
 "nbformat_minor": 2
}
