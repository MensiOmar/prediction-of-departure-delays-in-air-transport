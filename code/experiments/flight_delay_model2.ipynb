{
 "cells": [
  {
   "cell_type": "code",
   "execution_count": 116,
   "metadata": {},
   "outputs": [],
   "source": [
    "import os\n",
    "import pandas as pd\n",
    "import numpy as np\n",
    "from tensorflow.keras.models import Sequential\n",
    "from tensorflow.keras.layers import *\n",
    "from tensorflow.keras.callbacks import ModelCheckpoint\n",
    "from tensorflow.keras.losses import MeanSquaredError\n",
    "from tensorflow.keras.metrics import RootMeanSquaredError\n",
    "from tensorflow.keras.optimizers import Adam\n",
    "import tensorflow as tf\n",
    "import matplotlib.pyplot as plt\n",
    "import datetime\n"
   ]
  },
  {
   "cell_type": "code",
   "execution_count": 124,
   "metadata": {},
   "outputs": [],
   "source": [
    "avg_delay_df = pd.read_csv('C:/Users/MSI/avg_delay.csv')\n",
    "avg_delay_df = pd.to_datetime(avg_delay_df['time'], format='%Y-%m-%d %H:%M:%S%z')"
   ]
  },
  {
   "cell_type": "code",
   "execution_count": 127,
   "metadata": {},
   "outputs": [],
   "source": [
    "days=[(4,1),(1,1),(1,19),(5,25),(6,19),(7,3),(9,7),(11,11),(11,26),(12,25)]\n",
    "holidays = []\n",
    "\n",
    "for j in range(11,32):     \n",
    "    t = (3,j)\n",
    "    holidays.append(t)       \n",
    "for i in days:\n",
    "    holidays.append(i)\n",
    "holidays.sort()\n",
    "\n",
    "\n",
    "\n",
    "summer= []\n",
    "days_of_summer = {\n",
    "    6:30,\n",
    "    7:31,\n",
    "    8:31\n",
    "}  \n",
    "for i in range(6,9):\n",
    "    for j in range(1,days_of_summer[i]+1):\n",
    "        summer.append((i,j))\n",
    "        "
   ]
  },
  {
   "cell_type": "code",
   "execution_count": 80,
   "metadata": {},
   "outputs": [],
   "source": [
    "airport_name = \"ACY\"\n",
    "used_df = avg_delay_df[airport_name]\n",
    "used2_df = pd.DataFrame({airport_name:used_df})\n",
    "used2_df['Seconds'] = used2_df.index.map(pd.Timestamp.timestamp)\n",
    "\n",
    "hour = 60*60\n",
    "day = 60*60*24\n",
    "month = 30.4368499*day\n",
    "\n",
    "used2_df['Day sin'] = np.sin(used2_df['Seconds'] * (2* np.pi / day))\n",
    "used2_df['Day cos'] = np.cos(used2_df['Seconds'] * (2 * np.pi / day))\n",
    "used2_df['month sin'] = np.sin(used2_df['Seconds'] * (2 * np.pi / month))\n",
    "used2_df['month cos'] = np.cos(used2_df['Seconds'] * (2 * np.pi / month))\n",
    "used2_df = used2_df.drop('Seconds', axis=1)\n",
    "\n"
   ]
  },
  {
   "cell_type": "code",
   "execution_count": 82,
   "metadata": {},
   "outputs": [
    {
     "data": {
      "text/plain": [
       "array([[[-1.92658629e-01,  2.58819045e-01, -9.65925826e-01,\n",
       "         -6.21044922e-01,  7.83774971e-01],\n",
       "        [-1.92658629e-01,  7.16573952e-12, -1.00000000e+00,\n",
       "         -6.14280473e-01,  7.89087765e-01],\n",
       "        [-1.92658629e-01, -2.58819045e-01, -9.65925826e-01,\n",
       "         -6.07470577e-01,  7.94342179e-01],\n",
       "        ...,\n",
       "        [-1.92658629e-01, -7.07106781e-01, -7.07106781e-01,\n",
       "         -5.93716465e-01,  8.04674319e-01],\n",
       "        [-1.92658629e-01, -8.66025404e-01, -5.00000000e-01,\n",
       "         -5.86773265e-01,  8.09751280e-01],\n",
       "        [-1.92658629e-01, -9.65925826e-01, -2.58819045e-01,\n",
       "         -5.79786654e-01,  8.14768333e-01]],\n",
       "\n",
       "       [[-1.92658629e-01,  7.16573952e-12, -1.00000000e+00,\n",
       "         -6.14280473e-01,  7.89087765e-01],\n",
       "        [-1.92658629e-01, -2.58819045e-01, -9.65925826e-01,\n",
       "         -6.07470577e-01,  7.94342179e-01],\n",
       "        [-1.92658629e-01, -5.00000000e-01, -8.66025404e-01,\n",
       "         -6.00615739e-01,  7.99537826e-01],\n",
       "        ...,\n",
       "        [-1.92658629e-01, -8.66025404e-01, -5.00000000e-01,\n",
       "         -5.86773265e-01,  8.09751280e-01],\n",
       "        [-1.92658629e-01, -9.65925826e-01, -2.58819045e-01,\n",
       "         -5.79786654e-01,  8.14768333e-01],\n",
       "        [-1.92658629e-01, -1.00000000e+00, -9.72908367e-12,\n",
       "         -5.72757148e-01,  8.19725106e-01]],\n",
       "\n",
       "       [[-1.92658629e-01, -2.58819045e-01, -9.65925826e-01,\n",
       "         -6.07470577e-01,  7.94342179e-01],\n",
       "        [-1.92658629e-01, -5.00000000e-01, -8.66025404e-01,\n",
       "         -6.00615739e-01,  7.99537826e-01],\n",
       "        [-1.92658629e-01, -7.07106781e-01, -7.07106781e-01,\n",
       "         -5.93716465e-01,  8.04674319e-01],\n",
       "        ...,\n",
       "        [-1.92658629e-01, -9.65925826e-01, -2.58819045e-01,\n",
       "         -5.79786654e-01,  8.14768333e-01],\n",
       "        [-1.92658629e-01, -1.00000000e+00, -9.72908367e-12,\n",
       "         -5.72757148e-01,  8.19725106e-01],\n",
       "        [-1.92658629e-01, -9.65925826e-01,  2.58819045e-01,\n",
       "         -5.65685268e-01,  8.24621233e-01]],\n",
       "\n",
       "       ...,\n",
       "\n",
       "       [[-1.92658629e-01, -5.00000000e-01, -8.66025404e-01,\n",
       "         -1.14896661e-01,  9.93377450e-01],\n",
       "        [-1.92658629e-01, -7.07106781e-01, -7.07106781e-01,\n",
       "         -1.06348083e-01,  9.94328962e-01],\n",
       "        [-1.92658629e-01, -8.66025404e-01, -5.00000000e-01,\n",
       "         -9.77916379e-02,  9.95206911e-01],\n",
       "        ...,\n",
       "        [-1.92658629e-01, -1.00000000e+00,  1.15545380e-12,\n",
       "         -8.06576759e-02,  9.96741862e-01],\n",
       "        [-1.92658629e-01, -9.65925826e-01,  2.58819045e-01,\n",
       "         -7.20814269e-02,  9.97398751e-01],\n",
       "        [-1.92658629e-01, -8.66025404e-01,  5.00000000e-01,\n",
       "         -6.34998450e-02,  9.97981848e-01]],\n",
       "\n",
       "       [[-1.92658629e-01, -7.07106781e-01, -7.07106781e-01,\n",
       "         -1.06348083e-01,  9.94328962e-01],\n",
       "        [-1.92658629e-01, -8.66025404e-01, -5.00000000e-01,\n",
       "         -9.77916379e-02,  9.95206911e-01],\n",
       "        [-1.92658629e-01, -9.65925826e-01, -2.58819045e-01,\n",
       "         -8.92279576e-02,  9.96011231e-01],\n",
       "        ...,\n",
       "        [-1.92658629e-01, -9.65925826e-01,  2.58819045e-01,\n",
       "         -7.20814269e-02,  9.97398751e-01],\n",
       "        [-1.92658629e-01, -8.66025404e-01,  5.00000000e-01,\n",
       "         -6.34998450e-02,  9.97981848e-01],\n",
       "        [-1.92658629e-01, -7.07106781e-01,  7.07106781e-01,\n",
       "         -5.49135651e-02,  9.98491112e-01]],\n",
       "\n",
       "       [[-1.92658629e-01, -8.66025404e-01, -5.00000000e-01,\n",
       "         -9.77916379e-02,  9.95206911e-01],\n",
       "        [-1.92658629e-01, -9.65925826e-01, -2.58819045e-01,\n",
       "         -8.92279576e-02,  9.96011231e-01],\n",
       "        [-1.92658629e-01, -1.00000000e+00,  1.15545380e-12,\n",
       "         -8.06576759e-02,  9.96741862e-01],\n",
       "        ...,\n",
       "        [-1.92658629e-01, -8.66025404e-01,  5.00000000e-01,\n",
       "         -6.34998450e-02,  9.97981848e-01],\n",
       "        [-1.92658629e-01, -7.07106781e-01,  7.07106781e-01,\n",
       "         -5.49135651e-02,  9.98491112e-01],\n",
       "        [-1.92658629e-01, -5.00000000e-01,  8.66025404e-01,\n",
       "         -4.63232226e-02,  9.98926503e-01]]])"
      ]
     },
     "execution_count": 82,
     "metadata": {},
     "output_type": "execute_result"
    }
   ],
   "source": [
    "def df_to_X_y2(df, window_size=7):\n",
    "  df_as_np = df.to_numpy()\n",
    "  X = []\n",
    "  y = []\n",
    "  for i in range(len(df_as_np)-window_size):\n",
    "    row = [a for a in df_as_np[i:i+window_size]]\n",
    "    X.append(row)\n",
    "    label = df_as_np[i+window_size][0]\n",
    "    y.append(label)\n",
    "  return np.array(X), np.array(y)\n",
    "X2, y2 = df_to_X_y2(used2_df)\n",
    "train_size = int(0.7 * len(used2_df))  # 60% for training 4822\n",
    "val_size = int(0.2 * len(used2_df))    # 20% for validation 1607\n",
    "test_size = len(used2_df) - train_size - val_size\n",
    "X2_train, y2_train = X2[:train_size], y2[:train_size]\n",
    "X2_val, y2_val = X2[train_size:train_size+val_size], y2[train_size:train_size+val_size]\n",
    "X2_test, y2_test = X2[train_size+val_size:], y2[train_size+val_size:]\n",
    "used2_df_training_mean = np.mean(X2_train[:, :, 0])\n",
    "used2_df_training_std = np.std(X2_train[:, :, 0])\n",
    "preprocess(X2_train)\n",
    "preprocess(X2_val)\n",
    "preprocess(X2_test)\n"
   ]
  },
  {
   "cell_type": "code",
   "execution_count": 83,
   "metadata": {},
   "outputs": [
    {
     "data": {
      "text/plain": [
       "((8031, 7, 5), (8031,))"
      ]
     },
     "execution_count": 83,
     "metadata": {},
     "output_type": "execute_result"
    }
   ],
   "source": [
    "X2, y2 = df_to_X_y2(used2_df)\n",
    "X2.shape, y2.shape"
   ]
  },
  {
   "cell_type": "code",
   "execution_count": 209,
   "metadata": {},
   "outputs": [],
   "source": [
    "from sklearn.metrics import mean_squared_error as mse\n",
    "\n",
    "def plot_predictions1(model, X, y, start=0, end=100 , title='model2'):\n",
    "  predictions = model.predict(X).flatten()\n",
    "  df = pd.DataFrame(data={'Predictions':predictions, 'Actuals':y})\n",
    "\n",
    "  plt.figure(figsize=(10, 6))\n",
    "  plt.plot(df['Predictions'][start:end], color='red', label='Predictions')\n",
    "  plt.plot(df['Actuals'][start:end], color='grey', label='Actuals')\n",
    "  \n",
    "  plt.title(title)\n",
    "  plt.xlabel('Time')\n",
    "  plt.ylabel('Value')\n",
    "  plt.legend()\n",
    "  plt.show()\n",
    "  \n",
    "  mse_value = mse(y, predictions)\n",
    "  \n",
    "  return df, mse_value\n",
    "  "
   ]
  },
  {
   "cell_type": "code",
   "execution_count": 85,
   "metadata": {},
   "outputs": [
    {
     "data": {
      "text/plain": [
       "((8031, 7, 5), (8031,))"
      ]
     },
     "execution_count": 85,
     "metadata": {},
     "output_type": "execute_result"
    }
   ],
   "source": [
    "X2, y2 = df_to_X_y2(used2_df)\n",
    "X2.shape, y2.shape"
   ]
  },
  {
   "cell_type": "code",
   "execution_count": 86,
   "metadata": {},
   "outputs": [
    {
     "data": {
      "text/plain": [
       "((5626, 7, 5), (5626,), (1607, 7, 5), (1607,), (798, 7, 5), (798,))"
      ]
     },
     "execution_count": 86,
     "metadata": {},
     "output_type": "execute_result"
    }
   ],
   "source": [
    "train_size = int(0.7 * len(used2_df))  # 60% for training 4822\n",
    "val_size = int(0.2 * len(used2_df))    # 20% for validation 1607\n",
    "test_size = len(used2_df) - train_size - val_size\n",
    "X2_train, y2_train = X2[:train_size], y2[:train_size]\n",
    "X2_val, y2_val = X2[train_size:train_size+val_size], y2[train_size:train_size+val_size]\n",
    "X2_test, y2_test = X2[train_size+val_size:], y2[train_size+val_size:]\n",
    "X2_train.shape, y2_train.shape, X2_val.shape, y2_val.shape, X2_test.shape, y2_test.shape"
   ]
  },
  {
   "cell_type": "code",
   "execution_count": 87,
   "metadata": {},
   "outputs": [],
   "source": [
    "# standarizing the avg delay\n",
    "used2_df_training_mean = np.mean(X2_train[:, :, 0])\n",
    "used2_df_training_std = np.std(X2_train[:, :, 0])\n",
    "                           \n",
    "def preprocess(X):\n",
    "  X[:, :, 0] = (X[:, :, 0] - used2_df_training_mean) / used2_df_training_std\n",
    "  return X"
   ]
  },
  {
   "cell_type": "code",
   "execution_count": 88,
   "metadata": {},
   "outputs": [
    {
     "data": {
      "text/plain": [
       "array([[[-1.92658629e-01,  2.58819045e-01, -9.65925826e-01,\n",
       "         -6.21044922e-01,  7.83774971e-01],\n",
       "        [-1.92658629e-01,  7.16573952e-12, -1.00000000e+00,\n",
       "         -6.14280473e-01,  7.89087765e-01],\n",
       "        [-1.92658629e-01, -2.58819045e-01, -9.65925826e-01,\n",
       "         -6.07470577e-01,  7.94342179e-01],\n",
       "        ...,\n",
       "        [-1.92658629e-01, -7.07106781e-01, -7.07106781e-01,\n",
       "         -5.93716465e-01,  8.04674319e-01],\n",
       "        [-1.92658629e-01, -8.66025404e-01, -5.00000000e-01,\n",
       "         -5.86773265e-01,  8.09751280e-01],\n",
       "        [-1.92658629e-01, -9.65925826e-01, -2.58819045e-01,\n",
       "         -5.79786654e-01,  8.14768333e-01]],\n",
       "\n",
       "       [[-1.92658629e-01,  7.16573952e-12, -1.00000000e+00,\n",
       "         -6.14280473e-01,  7.89087765e-01],\n",
       "        [-1.92658629e-01, -2.58819045e-01, -9.65925826e-01,\n",
       "         -6.07470577e-01,  7.94342179e-01],\n",
       "        [-1.92658629e-01, -5.00000000e-01, -8.66025404e-01,\n",
       "         -6.00615739e-01,  7.99537826e-01],\n",
       "        ...,\n",
       "        [-1.92658629e-01, -8.66025404e-01, -5.00000000e-01,\n",
       "         -5.86773265e-01,  8.09751280e-01],\n",
       "        [-1.92658629e-01, -9.65925826e-01, -2.58819045e-01,\n",
       "         -5.79786654e-01,  8.14768333e-01],\n",
       "        [-1.92658629e-01, -1.00000000e+00, -9.72908367e-12,\n",
       "         -5.72757148e-01,  8.19725106e-01]],\n",
       "\n",
       "       [[-1.92658629e-01, -2.58819045e-01, -9.65925826e-01,\n",
       "         -6.07470577e-01,  7.94342179e-01],\n",
       "        [-1.92658629e-01, -5.00000000e-01, -8.66025404e-01,\n",
       "         -6.00615739e-01,  7.99537826e-01],\n",
       "        [-1.92658629e-01, -7.07106781e-01, -7.07106781e-01,\n",
       "         -5.93716465e-01,  8.04674319e-01],\n",
       "        ...,\n",
       "        [-1.92658629e-01, -9.65925826e-01, -2.58819045e-01,\n",
       "         -5.79786654e-01,  8.14768333e-01],\n",
       "        [-1.92658629e-01, -1.00000000e+00, -9.72908367e-12,\n",
       "         -5.72757148e-01,  8.19725106e-01],\n",
       "        [-1.92658629e-01, -9.65925826e-01,  2.58819045e-01,\n",
       "         -5.65685268e-01,  8.24621233e-01]],\n",
       "\n",
       "       ...,\n",
       "\n",
       "       [[-1.92658629e-01, -5.00000000e-01, -8.66025404e-01,\n",
       "         -1.14896661e-01,  9.93377450e-01],\n",
       "        [-1.92658629e-01, -7.07106781e-01, -7.07106781e-01,\n",
       "         -1.06348083e-01,  9.94328962e-01],\n",
       "        [-1.92658629e-01, -8.66025404e-01, -5.00000000e-01,\n",
       "         -9.77916379e-02,  9.95206911e-01],\n",
       "        ...,\n",
       "        [-1.92658629e-01, -1.00000000e+00,  1.15545380e-12,\n",
       "         -8.06576759e-02,  9.96741862e-01],\n",
       "        [-1.92658629e-01, -9.65925826e-01,  2.58819045e-01,\n",
       "         -7.20814269e-02,  9.97398751e-01],\n",
       "        [-1.92658629e-01, -8.66025404e-01,  5.00000000e-01,\n",
       "         -6.34998450e-02,  9.97981848e-01]],\n",
       "\n",
       "       [[-1.92658629e-01, -7.07106781e-01, -7.07106781e-01,\n",
       "         -1.06348083e-01,  9.94328962e-01],\n",
       "        [-1.92658629e-01, -8.66025404e-01, -5.00000000e-01,\n",
       "         -9.77916379e-02,  9.95206911e-01],\n",
       "        [-1.92658629e-01, -9.65925826e-01, -2.58819045e-01,\n",
       "         -8.92279576e-02,  9.96011231e-01],\n",
       "        ...,\n",
       "        [-1.92658629e-01, -9.65925826e-01,  2.58819045e-01,\n",
       "         -7.20814269e-02,  9.97398751e-01],\n",
       "        [-1.92658629e-01, -8.66025404e-01,  5.00000000e-01,\n",
       "         -6.34998450e-02,  9.97981848e-01],\n",
       "        [-1.92658629e-01, -7.07106781e-01,  7.07106781e-01,\n",
       "         -5.49135651e-02,  9.98491112e-01]],\n",
       "\n",
       "       [[-1.92658629e-01, -8.66025404e-01, -5.00000000e-01,\n",
       "         -9.77916379e-02,  9.95206911e-01],\n",
       "        [-1.92658629e-01, -9.65925826e-01, -2.58819045e-01,\n",
       "         -8.92279576e-02,  9.96011231e-01],\n",
       "        [-1.92658629e-01, -1.00000000e+00,  1.15545380e-12,\n",
       "         -8.06576759e-02,  9.96741862e-01],\n",
       "        ...,\n",
       "        [-1.92658629e-01, -8.66025404e-01,  5.00000000e-01,\n",
       "         -6.34998450e-02,  9.97981848e-01],\n",
       "        [-1.92658629e-01, -7.07106781e-01,  7.07106781e-01,\n",
       "         -5.49135651e-02,  9.98491112e-01],\n",
       "        [-1.92658629e-01, -5.00000000e-01,  8.66025404e-01,\n",
       "         -4.63232226e-02,  9.98926503e-01]]])"
      ]
     },
     "execution_count": 88,
     "metadata": {},
     "output_type": "execute_result"
    }
   ],
   "source": [
    "preprocess(X2_train)\n",
    "preprocess(X2_val)\n",
    "preprocess(X2_test)"
   ]
  },
  {
   "cell_type": "code",
   "execution_count": 183,
   "metadata": {},
   "outputs": [
    {
     "name": "stdout",
     "output_type": "stream",
     "text": [
      "Model: \"sequential_29\"\n",
      "_________________________________________________________________\n",
      " Layer (type)                Output Shape              Param #   \n",
      "=================================================================\n",
      " lstm_7 (LSTM)               (None, 512)               1060864   \n",
      "                                                                 \n",
      " dense_78 (Dense)            (None, 128)               65664     \n",
      "                                                                 \n",
      " dense_79 (Dense)            (None, 128)               16512     \n",
      "                                                                 \n",
      " dense_80 (Dense)            (None, 1)                 129       \n",
      "                                                                 \n",
      "=================================================================\n",
      "Total params: 1143169 (4.36 MB)\n",
      "Trainable params: 1143169 (4.36 MB)\n",
      "Non-trainable params: 0 (0.00 Byte)\n",
      "_________________________________________________________________\n"
     ]
    }
   ],
   "source": [
    "model2_LSTM = Sequential()\n",
    "model2_LSTM.add(InputLayer((7, 5)))\n",
    "model2_LSTM.add(LSTM(512))\n",
    "model2_LSTM.add(Dense(128, 'relu'))\n",
    "\n",
    "model2_LSTM.add(Dense(128, 'relu'))\n",
    "model2_LSTM.add(Dense(1, 'linear'))\n",
    "model2_LSTM.summary()"
   ]
  },
  {
   "cell_type": "code",
   "execution_count": 184,
   "metadata": {},
   "outputs": [],
   "source": [
    "cp2_LSTM = ModelCheckpoint('model2_LSTM/', save_best_only=True)\n",
    "model2_LSTM.compile(loss=MeanSquaredError(), optimizer=Adam(learning_rate=0.0001), metrics=[RootMeanSquaredError()])"
   ]
  },
  {
   "cell_type": "code",
   "execution_count": 185,
   "metadata": {},
   "outputs": [
    {
     "name": "stdout",
     "output_type": "stream",
     "text": [
      "Epoch 1/10\n",
      "175/176 [============================>.] - ETA: 0s - loss: 0.0023 - root_mean_squared_error: 0.0475INFO:tensorflow:Assets written to: model2_LSTM\\assets\n"
     ]
    },
    {
     "name": "stderr",
     "output_type": "stream",
     "text": [
      "INFO:tensorflow:Assets written to: model2_LSTM\\assets\n"
     ]
    },
    {
     "name": "stdout",
     "output_type": "stream",
     "text": [
      "176/176 [==============================] - 11s 52ms/step - loss: 0.0023 - root_mean_squared_error: 0.0476 - val_loss: 0.0013 - val_root_mean_squared_error: 0.0354\n",
      "Epoch 2/10\n",
      "176/176 [==============================] - ETA: 0s - loss: 0.0022 - root_mean_squared_error: 0.0468INFO:tensorflow:Assets written to: model2_LSTM\\assets\n"
     ]
    },
    {
     "name": "stderr",
     "output_type": "stream",
     "text": [
      "INFO:tensorflow:Assets written to: model2_LSTM\\assets\n"
     ]
    },
    {
     "name": "stdout",
     "output_type": "stream",
     "text": [
      "176/176 [==============================] - 10s 55ms/step - loss: 0.0022 - root_mean_squared_error: 0.0468 - val_loss: 0.0012 - val_root_mean_squared_error: 0.0344\n",
      "Epoch 3/10\n",
      "176/176 [==============================] - ETA: 0s - loss: 0.0021 - root_mean_squared_error: 0.0462INFO:tensorflow:Assets written to: model2_LSTM\\assets\n"
     ]
    },
    {
     "name": "stderr",
     "output_type": "stream",
     "text": [
      "INFO:tensorflow:Assets written to: model2_LSTM\\assets\n"
     ]
    },
    {
     "name": "stdout",
     "output_type": "stream",
     "text": [
      "176/176 [==============================] - 9s 52ms/step - loss: 0.0021 - root_mean_squared_error: 0.0462 - val_loss: 0.0012 - val_root_mean_squared_error: 0.0344\n",
      "Epoch 4/10\n",
      "176/176 [==============================] - 7s 41ms/step - loss: 0.0021 - root_mean_squared_error: 0.0461 - val_loss: 0.0013 - val_root_mean_squared_error: 0.0355\n",
      "Epoch 5/10\n",
      "176/176 [==============================] - 8s 47ms/step - loss: 0.0021 - root_mean_squared_error: 0.0457 - val_loss: 0.0013 - val_root_mean_squared_error: 0.0354\n",
      "Epoch 6/10\n",
      "176/176 [==============================] - ETA: 0s - loss: 0.0021 - root_mean_squared_error: 0.0456INFO:tensorflow:Assets written to: model2_LSTM\\assets\n"
     ]
    },
    {
     "name": "stderr",
     "output_type": "stream",
     "text": [
      "INFO:tensorflow:Assets written to: model2_LSTM\\assets\n"
     ]
    },
    {
     "name": "stdout",
     "output_type": "stream",
     "text": [
      "176/176 [==============================] - 10s 55ms/step - loss: 0.0021 - root_mean_squared_error: 0.0456 - val_loss: 0.0012 - val_root_mean_squared_error: 0.0342\n",
      "Epoch 7/10\n",
      "176/176 [==============================] - 8s 43ms/step - loss: 0.0021 - root_mean_squared_error: 0.0453 - val_loss: 0.0013 - val_root_mean_squared_error: 0.0355\n",
      "Epoch 8/10\n",
      "176/176 [==============================] - 8s 43ms/step - loss: 0.0020 - root_mean_squared_error: 0.0451 - val_loss: 0.0013 - val_root_mean_squared_error: 0.0355\n",
      "Epoch 9/10\n",
      "176/176 [==============================] - ETA: 0s - loss: 0.0020 - root_mean_squared_error: 0.0451INFO:tensorflow:Assets written to: model2_LSTM\\assets\n"
     ]
    },
    {
     "name": "stderr",
     "output_type": "stream",
     "text": [
      "INFO:tensorflow:Assets written to: model2_LSTM\\assets\n"
     ]
    },
    {
     "name": "stdout",
     "output_type": "stream",
     "text": [
      "176/176 [==============================] - 10s 54ms/step - loss: 0.0020 - root_mean_squared_error: 0.0451 - val_loss: 0.0011 - val_root_mean_squared_error: 0.0338\n",
      "Epoch 10/10\n",
      "176/176 [==============================] - 7s 42ms/step - loss: 0.0020 - root_mean_squared_error: 0.0448 - val_loss: 0.0011 - val_root_mean_squared_error: 0.0338\n"
     ]
    },
    {
     "data": {
      "text/plain": [
       "<keras.src.callbacks.History at 0x1fba80f8b50>"
      ]
     },
     "execution_count": 185,
     "metadata": {},
     "output_type": "execute_result"
    }
   ],
   "source": [
    "model2_LSTM.fit(X2_train, y2_train, validation_data=(X2_val, y2_val), epochs=10, callbacks=[cp2_LSTM])"
   ]
  },
  {
   "cell_type": "code",
   "execution_count": 210,
   "metadata": {},
   "outputs": [
    {
     "name": "stdout",
     "output_type": "stream",
     "text": [
      "51/51 [==============================] - 1s 12ms/step\n"
     ]
    },
    {
     "data": {
      "image/png": "[encoded data removed]",
      "text/plain": [
       "<Figure size 1000x600 with 1 Axes>"
      ]
     },
     "metadata": {},
     "output_type": "display_data"
    },
    {
     "data": {
      "text/plain": [
       "(      Predictions   Actuals\n",
       " 0        0.020558  0.000000\n",
       " 1        0.012087  0.000000\n",
       " 2        0.003311  0.000000\n",
       " 3        0.006450  0.000000\n",
       " 4        0.022358  0.035185\n",
       " ...           ...       ...\n",
       " 1602     0.005747  0.000000\n",
       " 1603     0.004783  0.000000\n",
       " 1604     0.010079  0.000000\n",
       " 1605     0.012348  0.000000\n",
       " 1606     0.012967  0.000000\n",
       " \n",
       " [1607 rows x 2 columns],\n",
       " 0.0011437605343360083)"
      ]
     },
     "execution_count": 210,
     "metadata": {},
     "output_type": "execute_result"
    }
   ],
   "source": [
    "plot_predictions1(model2_LSTM, X2_val, y2_val,200,400,title=\"LSTM model2\")"
   ]
  },
  {
   "cell_type": "code",
   "execution_count": 95,
   "metadata": {},
   "outputs": [
    {
     "data": {
      "text/plain": [
       "array([[[-1.92658629e-01,  2.58819045e-01, -9.65925826e-01,\n",
       "         -6.21044922e-01,  7.83774971e-01],\n",
       "        [-1.92658629e-01,  7.16573952e-12, -1.00000000e+00,\n",
       "         -6.14280473e-01,  7.89087765e-01],\n",
       "        [-1.92658629e-01, -2.58819045e-01, -9.65925826e-01,\n",
       "         -6.07470577e-01,  7.94342179e-01],\n",
       "        ...,\n",
       "        [-1.92658629e-01, -7.07106781e-01, -7.07106781e-01,\n",
       "         -5.93716465e-01,  8.04674319e-01],\n",
       "        [-1.92658629e-01, -8.66025404e-01, -5.00000000e-01,\n",
       "         -5.86773265e-01,  8.09751280e-01],\n",
       "        [-1.92658629e-01, -9.65925826e-01, -2.58819045e-01,\n",
       "         -5.79786654e-01,  8.14768333e-01]],\n",
       "\n",
       "       [[-1.92658629e-01,  7.16573952e-12, -1.00000000e+00,\n",
       "         -6.14280473e-01,  7.89087765e-01],\n",
       "        [-1.92658629e-01, -2.58819045e-01, -9.65925826e-01,\n",
       "         -6.07470577e-01,  7.94342179e-01],\n",
       "        [-1.92658629e-01, -5.00000000e-01, -8.66025404e-01,\n",
       "         -6.00615739e-01,  7.99537826e-01],\n",
       "        ...,\n",
       "        [-1.92658629e-01, -8.66025404e-01, -5.00000000e-01,\n",
       "         -5.86773265e-01,  8.09751280e-01],\n",
       "        [-1.92658629e-01, -9.65925826e-01, -2.58819045e-01,\n",
       "         -5.79786654e-01,  8.14768333e-01],\n",
       "        [-1.92658629e-01, -1.00000000e+00, -9.72908367e-12,\n",
       "         -5.72757148e-01,  8.19725106e-01]],\n",
       "\n",
       "       [[-1.92658629e-01, -2.58819045e-01, -9.65925826e-01,\n",
       "         -6.07470577e-01,  7.94342179e-01],\n",
       "        [-1.92658629e-01, -5.00000000e-01, -8.66025404e-01,\n",
       "         -6.00615739e-01,  7.99537826e-01],\n",
       "        [-1.92658629e-01, -7.07106781e-01, -7.07106781e-01,\n",
       "         -5.93716465e-01,  8.04674319e-01],\n",
       "        ...,\n",
       "        [-1.92658629e-01, -9.65925826e-01, -2.58819045e-01,\n",
       "         -5.79786654e-01,  8.14768333e-01],\n",
       "        [-1.92658629e-01, -1.00000000e+00, -9.72908367e-12,\n",
       "         -5.72757148e-01,  8.19725106e-01],\n",
       "        [-1.92658629e-01, -9.65925826e-01,  2.58819045e-01,\n",
       "         -5.65685268e-01,  8.24621233e-01]],\n",
       "\n",
       "       ...,\n",
       "\n",
       "       [[-1.92658629e-01, -5.00000000e-01, -8.66025404e-01,\n",
       "         -1.14896661e-01,  9.93377450e-01],\n",
       "        [-1.92658629e-01, -7.07106781e-01, -7.07106781e-01,\n",
       "         -1.06348083e-01,  9.94328962e-01],\n",
       "        [-1.92658629e-01, -8.66025404e-01, -5.00000000e-01,\n",
       "         -9.77916379e-02,  9.95206911e-01],\n",
       "        ...,\n",
       "        [-1.92658629e-01, -1.00000000e+00,  1.15545380e-12,\n",
       "         -8.06576759e-02,  9.96741862e-01],\n",
       "        [-1.92658629e-01, -9.65925826e-01,  2.58819045e-01,\n",
       "         -7.20814269e-02,  9.97398751e-01],\n",
       "        [-1.92658629e-01, -8.66025404e-01,  5.00000000e-01,\n",
       "         -6.34998450e-02,  9.97981848e-01]],\n",
       "\n",
       "       [[-1.92658629e-01, -7.07106781e-01, -7.07106781e-01,\n",
       "         -1.06348083e-01,  9.94328962e-01],\n",
       "        [-1.92658629e-01, -8.66025404e-01, -5.00000000e-01,\n",
       "         -9.77916379e-02,  9.95206911e-01],\n",
       "        [-1.92658629e-01, -9.65925826e-01, -2.58819045e-01,\n",
       "         -8.92279576e-02,  9.96011231e-01],\n",
       "        ...,\n",
       "        [-1.92658629e-01, -9.65925826e-01,  2.58819045e-01,\n",
       "         -7.20814269e-02,  9.97398751e-01],\n",
       "        [-1.92658629e-01, -8.66025404e-01,  5.00000000e-01,\n",
       "         -6.34998450e-02,  9.97981848e-01],\n",
       "        [-1.92658629e-01, -7.07106781e-01,  7.07106781e-01,\n",
       "         -5.49135651e-02,  9.98491112e-01]],\n",
       "\n",
       "       [[-1.92658629e-01, -8.66025404e-01, -5.00000000e-01,\n",
       "         -9.77916379e-02,  9.95206911e-01],\n",
       "        [-1.92658629e-01, -9.65925826e-01, -2.58819045e-01,\n",
       "         -8.92279576e-02,  9.96011231e-01],\n",
       "        [-1.92658629e-01, -1.00000000e+00,  1.15545380e-12,\n",
       "         -8.06576759e-02,  9.96741862e-01],\n",
       "        ...,\n",
       "        [-1.92658629e-01, -8.66025404e-01,  5.00000000e-01,\n",
       "         -6.34998450e-02,  9.97981848e-01],\n",
       "        [-1.92658629e-01, -7.07106781e-01,  7.07106781e-01,\n",
       "         -5.49135651e-02,  9.98491112e-01],\n",
       "        [-1.92658629e-01, -5.00000000e-01,  8.66025404e-01,\n",
       "         -4.63232226e-02,  9.98926503e-01]]])"
      ]
     },
     "execution_count": 95,
     "metadata": {},
     "output_type": "execute_result"
    }
   ],
   "source": [
    "def df_to_X_y2(df, window_size=7):\n",
    "  df_as_np = df.to_numpy()\n",
    "  X = []\n",
    "  y = []\n",
    "  for i in range(len(df_as_np)-window_size):\n",
    "    row = [a for a in df_as_np[i:i+window_size]]\n",
    "    X.append(row)\n",
    "    label = df_as_np[i+window_size][0]\n",
    "    y.append(label)\n",
    "  return np.array(X), np.array(y)\n",
    "X2, y2 = df_to_X_y2(used2_df)\n",
    "train_size = int(0.7 * len(used2_df))  # 60% for training 4822\n",
    "val_size = int(0.2 * len(used2_df))    # 20% for validation 1607\n",
    "test_size = len(used2_df) - train_size - val_size\n",
    "X2_train, y2_train = X2[:train_size], y2[:train_size]\n",
    "X2_val, y2_val = X2[train_size:train_size+val_size], y2[train_size:train_size+val_size]\n",
    "X2_test, y2_test = X2[train_size+val_size:], y2[train_size+val_size:]\n",
    "used2_df_training_mean = np.mean(X2_train[:, :, 0])\n",
    "used2_df_training_std = np.std(X2_train[:, :, 0])\n",
    "preprocess(X2_train)\n",
    "preprocess(X2_val)\n",
    "preprocess(X2_test)"
   ]
  },
  {
   "cell_type": "code",
   "execution_count": 212,
   "metadata": {},
   "outputs": [
    {
     "name": "stdout",
     "output_type": "stream",
     "text": [
      "Model: \"sequential_37\"\n",
      "_________________________________________________________________\n",
      " Layer (type)                Output Shape              Param #   \n",
      "=================================================================\n",
      " activation_6 (Activation)   (None, 7, 5)              0         \n",
      "                                                                 \n",
      " conv1d_19 (Conv1D)          (None, 6, 512)            5632      \n",
      "                                                                 \n",
      " flatten_10 (Flatten)        (None, 3072)              0         \n",
      "                                                                 \n",
      " dense_94 (Dense)            (None, 128)               393344    \n",
      "                                                                 \n",
      " dense_95 (Dense)            (None, 128)               16512     \n",
      "                                                                 \n",
      " dense_96 (Dense)            (None, 1)                 129       \n",
      "                                                                 \n",
      "=================================================================\n",
      "Total params: 415617 (1.59 MB)\n",
      "Trainable params: 415617 (1.59 MB)\n",
      "Non-trainable params: 0 (0.00 Byte)\n",
      "_________________________________________________________________\n"
     ]
    }
   ],
   "source": [
    "model2_Conv1D = Sequential()\n",
    "model2_Conv1D.add(InputLayer((7, 5)))\n",
    "model2_Conv1D.add(Activation('relu'))\n",
    "model2_Conv1D.add(Conv1D(512 , kernel_size=2))\n",
    "\n",
    "model2_Conv1D.add(Flatten())\n",
    "model2_Conv1D.add(Dense(128, 'relu'))\n",
    "model2_Conv1D.add(Dense(128, 'relu'))\n",
    "model2_Conv1D.add(Dense(1, 'linear'))\n",
    "model2_Conv1D.summary()"
   ]
  },
  {
   "cell_type": "code",
   "execution_count": 213,
   "metadata": {},
   "outputs": [],
   "source": [
    "cp2_conv = ModelCheckpoint('model2_conv/', save_best_only=True)\n",
    "model2_Conv1D.compile(loss=MeanSquaredError(), optimizer=Adam(learning_rate=0.0001), metrics=[RootMeanSquaredError()])"
   ]
  },
  {
   "cell_type": "code",
   "execution_count": 214,
   "metadata": {},
   "outputs": [
    {
     "name": "stdout",
     "output_type": "stream",
     "text": [
      "Epoch 1/10\n",
      "172/176 [============================>.] - ETA: 0s - loss: 0.0030 - root_mean_squared_error: 0.0547INFO:tensorflow:Assets written to: model2_conv\\assets\n"
     ]
    },
    {
     "name": "stderr",
     "output_type": "stream",
     "text": [
      "INFO:tensorflow:Assets written to: model2_conv\\assets\n"
     ]
    },
    {
     "name": "stdout",
     "output_type": "stream",
     "text": [
      "176/176 [==============================] - 2s 10ms/step - loss: 0.0029 - root_mean_squared_error: 0.0543 - val_loss: 0.0015 - val_root_mean_squared_error: 0.0391\n",
      "Epoch 2/10\n",
      "176/176 [==============================] - 1s 5ms/step - loss: 0.0025 - root_mean_squared_error: 0.0496 - val_loss: 0.0016 - val_root_mean_squared_error: 0.0400\n",
      "Epoch 3/10\n",
      "175/176 [============================>.] - ETA: 0s - loss: 0.0022 - root_mean_squared_error: 0.0466INFO:tensorflow:Assets written to: model2_conv\\assets\n"
     ]
    },
    {
     "name": "stderr",
     "output_type": "stream",
     "text": [
      "INFO:tensorflow:Assets written to: model2_conv\\assets\n"
     ]
    },
    {
     "name": "stdout",
     "output_type": "stream",
     "text": [
      "176/176 [==============================] - 1s 8ms/step - loss: 0.0022 - root_mean_squared_error: 0.0465 - val_loss: 0.0014 - val_root_mean_squared_error: 0.0380\n",
      "Epoch 4/10\n",
      "173/176 [============================>.] - ETA: 0s - loss: 0.0021 - root_mean_squared_error: 0.0460INFO:tensorflow:Assets written to: model2_conv\\assets\n"
     ]
    },
    {
     "name": "stderr",
     "output_type": "stream",
     "text": [
      "INFO:tensorflow:Assets written to: model2_conv\\assets\n"
     ]
    },
    {
     "name": "stdout",
     "output_type": "stream",
     "text": [
      "176/176 [==============================] - 2s 9ms/step - loss: 0.0021 - root_mean_squared_error: 0.0463 - val_loss: 0.0014 - val_root_mean_squared_error: 0.0368\n",
      "Epoch 5/10\n",
      "169/176 [===========================>..] - ETA: 0s - loss: 0.0022 - root_mean_squared_error: 0.0468INFO:tensorflow:Assets written to: model2_conv\\assets\n"
     ]
    },
    {
     "name": "stderr",
     "output_type": "stream",
     "text": [
      "INFO:tensorflow:Assets written to: model2_conv\\assets\n"
     ]
    },
    {
     "name": "stdout",
     "output_type": "stream",
     "text": [
      "176/176 [==============================] - 1s 8ms/step - loss: 0.0022 - root_mean_squared_error: 0.0464 - val_loss: 0.0013 - val_root_mean_squared_error: 0.0363\n",
      "Epoch 6/10\n",
      "175/176 [============================>.] - ETA: 0s - loss: 0.0021 - root_mean_squared_error: 0.0457INFO:tensorflow:Assets written to: model2_conv\\assets\n"
     ]
    },
    {
     "name": "stderr",
     "output_type": "stream",
     "text": [
      "INFO:tensorflow:Assets written to: model2_conv\\assets\n"
     ]
    },
    {
     "name": "stdout",
     "output_type": "stream",
     "text": [
      "176/176 [==============================] - 2s 9ms/step - loss: 0.0021 - root_mean_squared_error: 0.0457 - val_loss: 0.0013 - val_root_mean_squared_error: 0.0358\n",
      "Epoch 7/10\n",
      "171/176 [============================>.] - ETA: 0s - loss: 0.0021 - root_mean_squared_error: 0.0454INFO:tensorflow:Assets written to: model2_conv\\assets\n"
     ]
    },
    {
     "name": "stderr",
     "output_type": "stream",
     "text": [
      "INFO:tensorflow:Assets written to: model2_conv\\assets\n"
     ]
    },
    {
     "name": "stdout",
     "output_type": "stream",
     "text": [
      "176/176 [==============================] - 1s 8ms/step - loss: 0.0021 - root_mean_squared_error: 0.0454 - val_loss: 0.0012 - val_root_mean_squared_error: 0.0353\n",
      "Epoch 8/10\n",
      "176/176 [==============================] - 1s 6ms/step - loss: 0.0021 - root_mean_squared_error: 0.0460 - val_loss: 0.0013 - val_root_mean_squared_error: 0.0365\n",
      "Epoch 9/10\n",
      "176/176 [==============================] - 1s 6ms/step - loss: 0.0020 - root_mean_squared_error: 0.0447 - val_loss: 0.0013 - val_root_mean_squared_error: 0.0354\n",
      "Epoch 10/10\n",
      "176/176 [==============================] - 1s 5ms/step - loss: 0.0020 - root_mean_squared_error: 0.0448 - val_loss: 0.0013 - val_root_mean_squared_error: 0.0355\n"
     ]
    },
    {
     "data": {
      "text/plain": [
       "<keras.src.callbacks.History at 0x1fba404ceb0>"
      ]
     },
     "execution_count": 214,
     "metadata": {},
     "output_type": "execute_result"
    }
   ],
   "source": [
    "model2_Conv1D.fit(X2_train, y2_train, validation_data=(X2_val, y2_val), epochs=10, callbacks=[cp2_conv])"
   ]
  },
  {
   "cell_type": "code",
   "execution_count": 215,
   "metadata": {},
   "outputs": [
    {
     "name": "stdout",
     "output_type": "stream",
     "text": [
      "51/51 [==============================] - 0s 1ms/step\n"
     ]
    },
    {
     "data": {
      "image/png": "[encoded data removed]",
      "text/plain": [
       "<Figure size 1000x600 with 1 Axes>"
      ]
     },
     "metadata": {},
     "output_type": "display_data"
    },
    {
     "data": {
      "text/plain": [
       "(      Predictions   Actuals\n",
       " 0        0.019554  0.000000\n",
       " 1        0.008962  0.000000\n",
       " 2        0.007816  0.000000\n",
       " 3        0.006345  0.000000\n",
       " 4        0.075220  0.035185\n",
       " ...           ...       ...\n",
       " 1602     0.006502  0.000000\n",
       " 1603     0.009453  0.000000\n",
       " 1604     0.014958  0.000000\n",
       " 1605     0.015356  0.000000\n",
       " 1606     0.013717  0.000000\n",
       " \n",
       " [1607 rows x 2 columns],\n",
       " 0.0012624479741182998)"
      ]
     },
     "execution_count": 215,
     "metadata": {},
     "output_type": "execute_result"
    }
   ],
   "source": [
    "plot_predictions1(model2_Conv1D, X2_val, y2_val,200,400,title=\"Conv1D model2\")"
   ]
  },
  {
   "cell_type": "code",
   "execution_count": 198,
   "metadata": {},
   "outputs": [
    {
     "name": "stdout",
     "output_type": "stream",
     "text": [
      "Model: \"sequential_35\"\n",
      "_________________________________________________________________\n",
      " Layer (type)                Output Shape              Param #   \n",
      "=================================================================\n",
      " gru_11 (GRU)                (None, 512)               797184    \n",
      "                                                                 \n",
      " dense_88 (Dense)            (None, 128)               65664     \n",
      "                                                                 \n",
      " dense_89 (Dense)            (None, 128)               16512     \n",
      "                                                                 \n",
      " dense_90 (Dense)            (None, 1)                 129       \n",
      "                                                                 \n",
      "=================================================================\n",
      "Total params: 879489 (3.35 MB)\n",
      "Trainable params: 879489 (3.35 MB)\n",
      "Non-trainable params: 0 (0.00 Byte)\n",
      "_________________________________________________________________\n"
     ]
    }
   ],
   "source": [
    "model2_GRU = Sequential()\n",
    "model2_GRU.add(InputLayer((7, 5)))\n",
    "model2_GRU.add(GRU(512))\n",
    "model2_GRU.add(Dense(128, 'relu'))\n",
    "model2_GRU.add(Dense(128, 'relu'))\n",
    "model2_GRU.add(Dense(1, 'linear'))\n",
    "model2_GRU.summary()"
   ]
  },
  {
   "cell_type": "code",
   "execution_count": 199,
   "metadata": {},
   "outputs": [],
   "source": [
    "cp2_gru = ModelCheckpoint('model2_gru/', save_best_only=True)\n",
    "model2_GRU.compile(loss=MeanSquaredError(), optimizer=Adam(learning_rate=0.0001), metrics=[RootMeanSquaredError()])"
   ]
  },
  {
   "cell_type": "code",
   "execution_count": 200,
   "metadata": {},
   "outputs": [
    {
     "name": "stdout",
     "output_type": "stream",
     "text": [
      "Epoch 1/10\n",
      "176/176 [==============================] - ETA: 0s - loss: 0.0023 - root_mean_squared_error: 0.0484INFO:tensorflow:Assets written to: model2_gru\\assets\n"
     ]
    },
    {
     "name": "stderr",
     "output_type": "stream",
     "text": [
      "INFO:tensorflow:Assets written to: model2_gru\\assets\n"
     ]
    },
    {
     "name": "stdout",
     "output_type": "stream",
     "text": [
      "176/176 [==============================] - 9s 44ms/step - loss: 0.0023 - root_mean_squared_error: 0.0484 - val_loss: 0.0013 - val_root_mean_squared_error: 0.0363\n",
      "Epoch 2/10\n",
      "176/176 [==============================] - 5s 29ms/step - loss: 0.0022 - root_mean_squared_error: 0.0472 - val_loss: 0.0014 - val_root_mean_squared_error: 0.0369\n",
      "Epoch 3/10\n",
      "174/176 [============================>.] - ETA: 0s - loss: 0.0022 - root_mean_squared_error: 0.0468INFO:tensorflow:Assets written to: model2_gru\\assets\n"
     ]
    },
    {
     "name": "stderr",
     "output_type": "stream",
     "text": [
      "INFO:tensorflow:Assets written to: model2_gru\\assets\n"
     ]
    },
    {
     "name": "stdout",
     "output_type": "stream",
     "text": [
      "176/176 [==============================] - 7s 39ms/step - loss: 0.0022 - root_mean_squared_error: 0.0467 - val_loss: 0.0013 - val_root_mean_squared_error: 0.0358\n",
      "Epoch 4/10\n",
      "174/176 [============================>.] - ETA: 0s - loss: 0.0021 - root_mean_squared_error: 0.0459INFO:tensorflow:Assets written to: model2_gru\\assets\n"
     ]
    },
    {
     "name": "stderr",
     "output_type": "stream",
     "text": [
      "INFO:tensorflow:Assets written to: model2_gru\\assets\n"
     ]
    },
    {
     "name": "stdout",
     "output_type": "stream",
     "text": [
      "176/176 [==============================] - 7s 38ms/step - loss: 0.0021 - root_mean_squared_error: 0.0460 - val_loss: 0.0013 - val_root_mean_squared_error: 0.0358\n",
      "Epoch 5/10\n",
      "175/176 [============================>.] - ETA: 0s - loss: 0.0021 - root_mean_squared_error: 0.0460INFO:tensorflow:Assets written to: model2_gru\\assets\n"
     ]
    },
    {
     "name": "stderr",
     "output_type": "stream",
     "text": [
      "INFO:tensorflow:Assets written to: model2_gru\\assets\n"
     ]
    },
    {
     "name": "stdout",
     "output_type": "stream",
     "text": [
      "176/176 [==============================] - 7s 38ms/step - loss: 0.0021 - root_mean_squared_error: 0.0461 - val_loss: 0.0012 - val_root_mean_squared_error: 0.0342\n",
      "Epoch 6/10\n",
      "176/176 [==============================] - 5s 28ms/step - loss: 0.0021 - root_mean_squared_error: 0.0457 - val_loss: 0.0012 - val_root_mean_squared_error: 0.0350\n",
      "Epoch 7/10\n",
      "175/176 [============================>.] - ETA: 0s - loss: 0.0021 - root_mean_squared_error: 0.0454INFO:tensorflow:Assets written to: model2_gru\\assets\n"
     ]
    },
    {
     "name": "stderr",
     "output_type": "stream",
     "text": [
      "INFO:tensorflow:Assets written to: model2_gru\\assets\n"
     ]
    },
    {
     "name": "stdout",
     "output_type": "stream",
     "text": [
      "176/176 [==============================] - 7s 41ms/step - loss: 0.0021 - root_mean_squared_error: 0.0454 - val_loss: 0.0012 - val_root_mean_squared_error: 0.0340\n",
      "Epoch 8/10\n",
      "176/176 [==============================] - 5s 30ms/step - loss: 0.0020 - root_mean_squared_error: 0.0451 - val_loss: 0.0013 - val_root_mean_squared_error: 0.0366\n",
      "Epoch 9/10\n",
      "176/176 [==============================] - 5s 31ms/step - loss: 0.0020 - root_mean_squared_error: 0.0449 - val_loss: 0.0012 - val_root_mean_squared_error: 0.0354\n",
      "Epoch 10/10\n",
      "176/176 [==============================] - 6s 33ms/step - loss: 0.0020 - root_mean_squared_error: 0.0451 - val_loss: 0.0012 - val_root_mean_squared_error: 0.0351\n"
     ]
    },
    {
     "data": {
      "text/plain": [
       "<keras.src.callbacks.History at 0x1fba3ed49a0>"
      ]
     },
     "execution_count": 200,
     "metadata": {},
     "output_type": "execute_result"
    }
   ],
   "source": [
    "model2_GRU.fit(X2_train, y2_train, validation_data=(X2_val, y2_val), epochs=10, callbacks=[cp2_gru])"
   ]
  },
  {
   "cell_type": "code",
   "execution_count": 216,
   "metadata": {},
   "outputs": [
    {
     "name": "stdout",
     "output_type": "stream",
     "text": [
      "51/51 [==============================] - 1s 10ms/step\n"
     ]
    },
    {
     "data": {
      "image/png": "[encoded data removed]",
      "text/plain": [
       "<Figure size 1000x600 with 1 Axes>"
      ]
     },
     "metadata": {},
     "output_type": "display_data"
    },
    {
     "data": {
      "text/plain": [
       "(      Predictions   Actuals\n",
       " 0        0.014879  0.000000\n",
       " 1        0.012641  0.000000\n",
       " 2        0.004368  0.000000\n",
       " 3        0.009747  0.000000\n",
       " 4        0.021923  0.035185\n",
       " ...           ...       ...\n",
       " 1602     0.009383  0.000000\n",
       " 1603     0.005669  0.000000\n",
       " 1604     0.007777  0.000000\n",
       " 1605     0.008346  0.000000\n",
       " 1606     0.006605  0.000000\n",
       " \n",
       " [1607 rows x 2 columns],\n",
       " 0.0012291108541906946)"
      ]
     },
     "execution_count": 216,
     "metadata": {},
     "output_type": "execute_result"
    }
   ],
   "source": [
    "plot_predictions1(model2_GRU, X2_val, y2_val,150,600 ,title=\"GRU model 2\")"
   ]
  }
 ],
 "metadata": {
  "kernelspec": {
   "display_name": "base",
   "language": "python",
   "name": "python3"
  },
  "language_info": {
   "codemirror_mode": {
    "name": "ipython",
    "version": 3
   },
   "file_extension": ".py",
   "mimetype": "text/x-python",
   "name": "python",
   "nbconvert_exporter": "python",
   "pygments_lexer": "ipython3",
   "version": "3.10.9"
  },
  "orig_nbformat": 4
 },
 "nbformat": 4,
 "nbformat_minor": 2
}
